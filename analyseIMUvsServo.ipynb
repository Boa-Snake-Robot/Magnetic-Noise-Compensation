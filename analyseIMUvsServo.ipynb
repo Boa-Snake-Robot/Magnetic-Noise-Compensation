{
 "cells": [
  {
   "cell_type": "code",
   "execution_count": null,
   "metadata": {},
   "outputs": [],
   "source": [
    "import pandas as pd\n",
    "import matplotlib.pyplot as plt\n",
    "import numpy as np\n",
    "from analyseData import analysisutilities as au\n",
    "from plotting import plotting as plo\n",
    "from analyseData import loadData as ld"
   ]
  },
  {
   "attachments": {},
   "cell_type": "markdown",
   "metadata": {},
   "source": [
    "# Load and translate all datafiles to be used in this analysis\n",
    "First, all the datafiles to be analysed is loaded and translated here at the beginning to have full control of which files are in use\n",
    "\n",
    "df_IMU1, df_servo and df_IMU2 are the data from the servo experiment without load. The IMU dataframes are before and after the servo actuation respectively\n",
    "\n",
    "df_IMU1_L, df_servo_L and df_IMU2_L are the data from the servo experiment with load. \n",
    "\n",
    "df_servo_a and df_servo_La are the data dataframes wfrom df_servo and df_servo_L respectively, where outliers have been removed using aspen unscrambler"
   ]
  },
  {
   "cell_type": "code",
   "execution_count": null,
   "metadata": {},
   "outputs": [],
   "source": [
    "# without load\n",
    "df_IMU = ld.laodTestData(\"Data/projectThesisTest1/newCurrentMeas/woLoad/pureIMUdata2023-05-16 09%3A22%3A14.928527.csv\")\n",
    "df_IMU = au.drop_outliers_IQR(df_IMU, sensititvity=3)\n",
    "au.displayStatistics(df_IMU)\n",
    "df_IMU2 = ld.laodTestData(\"Data/projectThesisTest1/newCurrentMeas/woLoad/pureIMUdat2a2023-05-16 09%3A22%3A14.928527.csv\")\n",
    "df_IMU2 = au.drop_outliers_IQR(df_IMU, sensititvity=3)\n",
    "au.displayStatistics(df_IMU2)\n",
    "df_servo = ld.laodTestData(\"Data/projectThesisTest1/newCurrentMeas/woLoad/servoData2023-05-16 09%3A22%3A14.928527.csv\", save = False)\n",
    "\n",
    "df_servo_a = pd.read_csv(\"Data/AspenDataFiles/woLoad/NEWservoData2023-05-16woLoadTranslatedOutliersRemoved.csv\", sep = ',', header=0, index_col=False)\n",
    "\n",
    "# with load\n",
    "df_IMU_L = ld.laodTestData(\"Data/projectThesisTest1/newCurrentMeas/wLoad/pureIMUdata2023-05-16 08%3A46%3A23.906719.csv\")\n",
    "df_IMU_L = au.drop_outliers_IQR(df_IMU_L, sensititvity=3)\n",
    "au.displayStatistics(df_IMU_L)\n",
    "df_IMU2_L = ld.laodTestData(\"Data/projectThesisTest1/newCurrentMeas/wLoad/pureIMUdat2a2023-05-16 08%3A46%3A23.906719.csv\")\n",
    "df_IMU2_L = au.drop_outliers_IQR(df_IMU2_L, sensititvity=3)\n",
    "au.displayStatistics(df_IMU2_L)\n",
    "df_servo_L = ld.laodTestData(\"Data/projectThesisTest1/newCurrentMeas/wLoad/servoData2023-05-16 08%3A46%3A23.906719.csv\", save = False)\n",
    "\n",
    "df_servo_La = pd.read_csv(\"Data/AspenDataFiles/wLoad/NEWservoDataWithLoadTranslatedOutliersRemoved.csv\", sep = ',', header=0, index_col=False)"
   ]
  },
  {
   "attachments": {},
   "cell_type": "markdown",
   "metadata": {},
   "source": [
    "# Test without load\n",
    "\n",
    "## IMU measurements to find the real magnetometers measurements without servo motor on\n",
    "### Data with outliers"
   ]
  },
  {
   "cell_type": "code",
   "execution_count": null,
   "metadata": {},
   "outputs": [],
   "source": [
    "print(\"statistics of IMU measurements before servo actuation without load\")\n",
    "au.displayStatistics(df_IMU)\n",
    "df_IMU.set_index('time').plot(subplots=True, figsize=(12,20), title=\"IMU measurements before servo actuation without load\")\n",
    "\n",
    "print(\"statistics of IMU measurements after servo actuation without load\")\n",
    "au.displayStatistics(df_IMU2)\n",
    "df_IMU2.set_index('time').plot(subplots=True, figsize=(12,20), title=\"IMU measurements after servo actuation without load\")"
   ]
  },
  {
   "attachments": {},
   "cell_type": "markdown",
   "metadata": {},
   "source": [
    "### Plotting the distribution of the pure IMU measurments\n",
    "First it plots the IMU before, then the IMU after"
   ]
  },
  {
   "cell_type": "code",
   "execution_count": null,
   "metadata": {},
   "outputs": [],
   "source": [
    "print(\"Distribution of IMU measurements before servo actuation without load\")\n",
    "plo.plot_IMU(df_IMU)\n",
    "\n",
    "print(\"Distribution of IMU measurements after servo actuation without load\")\n",
    "plo.plot_IMU(df_IMU2)\n"
   ]
  },
  {
   "attachments": {},
   "cell_type": "markdown",
   "metadata": {},
   "source": [
    "## Comparing the IMU measurements before and after the servo was actuated to see if there is a permanent change in the magnetometer measurements"
   ]
  },
  {
   "cell_type": "code",
   "execution_count": null,
   "metadata": {},
   "outputs": [],
   "source": [
    "plo.compareIMUMeasurements(df_IMU, df_IMU2)"
   ]
  },
  {
   "attachments": {},
   "cell_type": "markdown",
   "metadata": {},
   "source": [
    "## IMU measurements while the servo motor actuates\n",
    "Here, the outliers has been removed using aspen unscrambler"
   ]
  },
  {
   "cell_type": "code",
   "execution_count": null,
   "metadata": {},
   "outputs": [],
   "source": [
    "print(\"Test statistics of IMU measurments during servo actuation wihtout load, outliers removed\")\n",
    "au.displayStatistics(df_servo_a, filename=\"figuresAndResults//servoWithoutLoadTestStatistics.csv\",)\n",
    "\n",
    "\n",
    "\n",
    "axs = df_servo_a[['time', 'magX', 'magY', 'magZ', 'servoPos', 'servoVel']].set_index('time').plot(subplots=True, figsize=(12,8))\n",
    "axs[0].set_ylabel(r'$\\mu T$')\n",
    "axs[1].set_ylabel(r'$\\mu T$')\n",
    "axs[2].set_ylabel(r'$\\mu T$')\n",
    "axs[3].set_ylabel(r'$^\\circ$ (degrees)')\n",
    "axs[4].set_ylabel(r'$rpm$')\n",
    "axs[4].set_xlabel('time (s)')\n",
    "plt.show()"
   ]
  },
  {
   "attachments": {},
   "cell_type": "markdown",
   "metadata": {},
   "source": [
    "### Pairplot of IMU and servo motor measurements during servo motor actuation"
   ]
  },
  {
   "cell_type": "code",
   "execution_count": null,
   "metadata": {},
   "outputs": [],
   "source": [
    "plo.plot_servo(df_servo_a, directory='Data/projectThesisTest1/newCurrentMeas/woLoad')\n",
    "\n",
    "df_servo_a.plot.scatter(x = 'servoVel', y = 'servoCur')\n",
    " \n",
    "fig = plt.figure()\n",
    "# syntax for 3-D projection\n",
    "ax = plt.axes(projection ='3d')\n",
    " \n",
    "# plotting\n",
    "ax.scatter(df_servo_a['magX'], df_servo_a['magY'], df_servo_a['magZ'], 'green')\n",
    "ax.set_xlabel('x-axis')\n",
    "ax.set_ylabel('y-axis')\n",
    "ax.set_zlabel('z-axis')\n",
    "ax.set_title('3D scatter plot between the magnetometer axes')\n",
    "plt.savefig(\"3dplot.svg\")\n",
    "plt.show()\n",
    "\n",
    "df_servo_a = df_servo_a.dropna()\n",
    "abs = np.linalg.norm(df_servo_a[['magX', 'magY', 'magZ']].values,axis=1)\n",
    "\n",
    "plt.plot(abs)"
   ]
  },
  {
   "attachments": {},
   "cell_type": "markdown",
   "metadata": {},
   "source": [
    "# Test with \\**dark voise*\\* Load Simulator 3000"
   ]
  },
  {
   "cell_type": "code",
   "execution_count": null,
   "metadata": {},
   "outputs": [],
   "source": [
    "\n",
    "print(\"statistics of IMU measurements before servo actuation with load\")\n",
    "au.displayStatistics(df_IMU_L)\n",
    "df_IMU_L.set_index('time').plot(subplots=True, figsize=(12,20), title=\"IMU measurements before servo actuation with load\")\n",
    "\n",
    "print(\"statistics of IMU measurements after servo actuation with load\")\n",
    "au.displayStatistics(df_IMU2_L)\n",
    "df_IMU2_L.set_index('time').plot(subplots=True, figsize=(12,20), title=\"IMU measurements after servo actuation with load\")"
   ]
  },
  {
   "cell_type": "code",
   "execution_count": null,
   "metadata": {},
   "outputs": [],
   "source": [
    "print(\"Distribution of IMU measurements before servo actuation without load\")\n",
    "plo.plot_IMU(df_IMU_L)\n",
    "print(\"Distribution of IMU measurements after servo actuation without load\")\n",
    "plo.plot_IMU(df_IMU2_L)\n",
    "\n",
    "plo.compare_IMU_measurements(df_IMU_L, df_IMU2_L)"
   ]
  },
  {
   "cell_type": "code",
   "execution_count": null,
   "metadata": {},
   "outputs": [],
   "source": [
    "print(\"Test statistics of IMU measurments during servo actuation wihtout load, outliers removed\")\n",
    "au.displayStatistics(df_servo_La, filename=\"figuresAndResults//servoWithoutLoadTestStatistics.csv\",)\n",
    "\n",
    "\n",
    "\n",
    "axs = df_servo_La[['time', 'magX', 'magY', 'magZ', 'gyrZ', 'servoPos', 'servoVel']].set_index('time').plot(subplots=True, figsize=(12,8))\n",
    "axs[0].set_ylabel(r'$\\mu T$')\n",
    "axs[1].set_ylabel(r'$\\mu T$')\n",
    "axs[2].set_ylabel(r'$\\mu T$')\n",
    "axs[3].set_ylabel(r'$\\circ / s $')\n",
    "axs[4].set_ylabel(r'$^\\circ$ (degrees)')\n",
    "axs[5].set_ylabel(r'$rpm$')\n",
    "axs[5].set_xlabel('time (s)')\n",
    "plt.show()"
   ]
  },
  {
   "cell_type": "code",
   "execution_count": null,
   "metadata": {},
   "outputs": [],
   "source": [
    "plo.plot_servo(df_servo_La, directory='Data/projectThesisTest1/newCurrentMeas/wLoad')\n",
    "\n",
    "df_servo_La.plot.scatter(x = 'servoVel', y = 'servoCur')\n",
    " \n",
    "fig = plt.figure()\n",
    "# syntax for 3-D projection\n",
    "ax = plt.axes(projection ='3d')\n",
    " \n",
    "# plotting\n",
    "ax.scatter(df_servo_La['magX'], df_servo_La['magY'], df_servo_La['magZ'], 'green')\n",
    "ax.set_xlabel('x-axis')\n",
    "ax.set_ylabel('y-axis')\n",
    "ax.set_zlabel('z-axis')\n",
    "ax.set_title('3D scatter plot between the magnetometer axes')\n",
    "plt.savefig(\"3dplot.svg\")\n",
    "plt.show()\n",
    "\n",
    "df_servo_La = df_servo_La.dropna()\n",
    "abs = np.linalg.norm(df_servo_La[['magX', 'magY', 'magZ']].values,axis=1)\n",
    "\n",
    "plt.plot(abs)"
   ]
  },
  {
   "cell_type": "code",
   "execution_count": null,
   "metadata": {},
   "outputs": [],
   "source": [
    "fig, axs = plt.subplots(1,1, figsize = (12.5,4))\n",
    "df_servo_a[['time', 'servoCur']].set_index('time').plot(ax = axs, legend=False)\n",
    "df_servo_La[['time', 'servoCur']].set_index('time').plot(ax = axs, legend=False)\n",
    "axs.legend([\"Without load\", \"With load\"])\n",
    "axs.set_ylabel(\"Torque current [mA]\")\n",
    "axs.set_xlabel(\"Time [s]\")\n",
    "\n",
    "\n",
    "fig, axs = plt.subplots(3,1, figsize = (12.5,10))\n",
    "df_servo_a[['time', 'magX']].set_index('time').plot(ax = axs[0], legend=False)\n",
    "df_servo_La[['time', 'magX']].set_index('time').plot(ax = axs[0], legend=False)\n",
    "df_servo_a[['time', 'magY']].set_index('time').plot(ax = axs[1], legend=False)\n",
    "df_servo_La[['time', 'magY']].set_index('time').plot(ax = axs[1], legend=False)\n",
    "df_servo_a[['time', 'magZ']].set_index('time').plot(ax = axs[2], legend=False)\n",
    "df_servo_La[['time', 'magZ']].set_index('time').plot(ax = axs[2], legend=False)\n",
    "axs[0].legend([\"Without load\", \"With load\"], loc='upper left' )\n",
    "axs[0].set_ylabel(\"TMagnetic field [uT]\")\n",
    "axs[1].set_ylabel(\"TMagnetic field [uT]\")\n",
    "axs[2].set_ylabel(\"TMagnetic field [uT]\")\n",
    "axs[0].set_xlabel(\"\")\n",
    "axs[1].set_xlabel(\"\")\n",
    "axs[2].set_xlabel(\"Time [s]\")\n",
    "\n"
   ]
  }
 ],
 "metadata": {
  "kernelspec": {
   "display_name": "pythonProject",
   "language": "python",
   "name": "python3"
  },
  "language_info": {
   "codemirror_mode": {
    "name": "ipython",
    "version": 3
   },
   "file_extension": ".py",
   "mimetype": "text/x-python",
   "name": "python",
   "nbconvert_exporter": "python",
   "pygments_lexer": "ipython3",
   "version": "3.10.6"
  },
  "orig_nbformat": 4
 },
 "nbformat": 4,
 "nbformat_minor": 2
}
