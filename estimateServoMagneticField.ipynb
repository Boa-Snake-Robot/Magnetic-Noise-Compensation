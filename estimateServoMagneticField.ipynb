{
 "cells": [
  {
   "cell_type": "code",
   "execution_count": null,
   "metadata": {},
   "outputs": [],
   "source": [
    "from analyseData import curvefitting as cf\n",
    "import pandas as pd\n",
    "from analyseData import loadData as ld\n",
    "import matplotlib as mpl\n",
    "from matplotlib import pyplot as plt\n",
    "new_rc_params = {'text.usetex': False,\n",
    "\"svg.fonttype\": 'none'\n",
    "}\n",
    "mpl.rcParams.update(new_rc_params)"
   ]
  },
  {
   "cell_type": "code",
   "execution_count": null,
   "metadata": {},
   "outputs": [],
   "source": [
    "def estimate_sine_params(df_IMU, df_servo, savefig = False, directory = None):\n",
    "    df_mag_servo = df_servo.copy()\n",
    "    \n",
    "    df_mag_servo['magX'] = df_mag_servo['magX']  - df_IMU['magX'].mean() \n",
    "    df_mag_servo['magY'] = df_mag_servo['magY']  - df_IMU['magY'].mean() \n",
    "    df_mag_servo['magZ'] = df_mag_servo['magZ']  - df_IMU['magZ'].mean() \n",
    "    params = cf.fit_magnetometer_data(df_mag_servo, init_guess=[1, 1, 1, 1])\n",
    "    cf.plot_magsinefit(df_mag_servo, params, savefig=savefig, directory=directory)\n",
    "\n",
    "\n",
    "                    \n",
    "df_true_IMU = ld.laodTestData(\"Data/projectThesisTest1/newCurrentMeas/woLoad/pureIMUdata2023-05-16 09%3A22%3A14.928527.csv\") \n",
    "df_true_IMU = df_true_IMU.dropna()\n",
    "df_servo = ld.laodTestData(\"Data/projectThesisTest1/newCurrentMeas/woLoad/servoData2023-05-16 09%3A22%3A14.928527.csv\")\n",
    "df_servo = df_servo.dropna()\n",
    "estimate_sine_params(df_true_IMU, df_servo, savefig = False, directory = \"Data/projectThesisTest1/newCurrentMeas/woLoad\")"
   ]
  },
  {
   "attachments": {},
   "cell_type": "markdown",
   "metadata": {},
   "source": [
    "# With load\n"
   ]
  },
  {
   "cell_type": "code",
   "execution_count": null,
   "metadata": {},
   "outputs": [],
   "source": [
    "df_true_IMUl = ld.laodTestData(\"Data/projectThesisTest1/newCurrentMeas/wLoad/pureIMUdata2023-05-16 08%3A46%3A23.906719.csv\")\n",
    "df_true_IMUl = df_true_IMUl.dropna()\n",
    "df_servol = ld.laodTestData(\"Data/projectThesisTest1/newCurrentMeas/wLoad/servoData2023-05-16 08%3A46%3A23.906719.csv\") \n",
    "df_servol = df_servol.dropna()\n",
    "estimate_sine_params(df_true_IMUl, df_servol, savefig = False, directory=\"Data/projectThesisTest1/newCurrentMeas/wLoad\")"
   ]
  },
  {
   "attachments": {},
   "cell_type": "markdown",
   "metadata": {},
   "source": [
    "# Shielding"
   ]
  },
  {
   "cell_type": "code",
   "execution_count": null,
   "metadata": {},
   "outputs": [],
   "source": [
    "df_true_IMUs = ld.laodTestData(\"Data/shielding1/pureIMUdata2023-05-27 17%3A26%3A04.212748.csv\")\n",
    "df_true_IMUs = df_true_IMUs.dropna()\n",
    "df_servos = ld.laodTestData(\"Data/shielding1/servoData2023-05-27 17%3A26%3A04.212748.csv\")\n",
    "df_servos = df_servos.dropna()\n",
    "estimate_sine_params(df_true_IMUs, df_servos, savefig =False, directory='Data/shielding1')\n",
    "\n",
    "\n",
    "df = df_servos.sort_values(by=['servoPos'])\n",
    "Directions = ['magX', 'magY', 'magZ']\n",
    "\n",
    "'''PLOT MAG VS POS AND FITTED CURVE'''\n",
    "plt.rcParams[\"figure.figsize\"] = [12.50, 4.2]\n",
    "plt.rcParams[\"figure.autolayout\"] = True\n",
    "plt.rcParams['font.size'] = 20\n",
    "plt.rcParams['axes.ymargin'] = .4\n",
    "plt.rcParams['svg.fonttype'] = 'none'\n",
    "\n",
    "plt.figure()\n",
    "plt.title('Magnetic field with 0.1 mm shielding sheet')\n",
    "\n",
    "for direction in Directions:\n",
    "    plt.scatter(df['servoPos'], df[direction], s = 5, label = 'Data')\n",
    "    plt.legend(['x', 'y', 'z'])\n",
    "    plt.xlabel('Servo position [deg]')\n",
    "    plt.ylabel(r'$\\mu T$')\n",
    "\n",
    "#plt.savefig('figuresAndResults/shieldinghysteris.svg', format = 'svg')"
   ]
  },
  {
   "cell_type": "code",
   "execution_count": null,
   "metadata": {},
   "outputs": [],
   "source": [
    "df_true_IMUd = ld.laodTestData(\"Data/shieldingtestV2/pureIMUdataavstand2.csv\")\n",
    "df_true_IMUd = df_true_IMUd.dropna()\n",
    "df_servod = ld.laodTestData(\"Data/shieldingtestV2/servoDataavstand2.csv\") \n",
    "df_servod = df_servod.dropna()\n",
    "\n",
    "estimate_sine_params(df_true_IMUd, df_servod, savefig = False, directory=\"Data/shieldingtestV2/\")"
   ]
  },
  {
   "cell_type": "markdown",
   "metadata": {},
   "source": [
    "# Heading estimate on camera tripod"
   ]
  },
  {
   "cell_type": "code",
   "execution_count": null,
   "metadata": {},
   "outputs": [],
   "source": [
    "# distance and camera stand moving test\n",
    "\n",
    "df_true_IMUd1 = ld.laodTestData(\"Data/movingMavtsnad/pureIMUdata2023-06-13 11%3A36%3A05.838836.csv\")\n",
    "df_true_IMUd1 = df_true_IMUd1.dropna()\n",
    "df_servod1 = ld.laodTestData(\"Data/movingMavtsnad/servoData2023-06-13 11%3A36%3A05.838836.csv\") \n",
    "df_servod1[['time', 'magX', 'magY', 'magZ']].set_index('time').plot()\n",
    "df_servod1 = df_servod1.dropna()\n",
    "plt.figure()\n",
    "estimate_sine_params(df_true_IMUd1, df_servod1, savefig = False, directory=\"Data/movingMavtsnad\")\n",
    "\n",
    "plt.figure()\n",
    "plt.title('Magnetic field with 0.1 mm shielding sheet')\n",
    "Directions = ['magX', 'magY', 'magZ']\n",
    "\n",
    "for direction in Directions:\n",
    "    plt.scatter(df_servod1['servoPos'], df_servod1[direction], s = 5, label = 'Data')\n",
    "    plt.legend(['x', 'y', 'z'])\n",
    "    plt.xlabel('Servo position [deg]')\n",
    "    plt.ylabel(r'$\\mu T$')\n",
    "#plt.savefig('figuresAndResults/CameraStandhysteris.svg', format = 'svg')"
   ]
  },
  {
   "cell_type": "markdown",
   "metadata": {},
   "source": [
    "# Heading experiment without camera tripod\n",
    "See that it now is normal again :)"
   ]
  },
  {
   "cell_type": "code",
   "execution_count": null,
   "metadata": {},
   "outputs": [],
   "source": [
    "# vanlig\n",
    "\n",
    "df_true_IMUny = ld.laodTestData(\"Data/nybevegelse/pureIMUdataStille.csv\")\n",
    "df_true_IMUny = df_true_IMUny.dropna()\n",
    "df_servony = ld.laodTestData(\"Data/nybevegelse/servoDataStille.csv\") \n",
    "df_servony = df_servony.dropna()\n",
    "estimate_sine_params(df_true_IMUny, df_servony, savefig = False, directory=\"Data/nybevegelse\")"
   ]
  }
 ],
 "metadata": {
  "kernelspec": {
   "display_name": "pythonProject",
   "language": "python",
   "name": "python3"
  },
  "language_info": {
   "codemirror_mode": {
    "name": "ipython",
    "version": 3
   },
   "file_extension": ".py",
   "mimetype": "text/x-python",
   "name": "python",
   "nbconvert_exporter": "python",
   "pygments_lexer": "ipython3",
   "version": "3.10.6"
  },
  "orig_nbformat": 4
 },
 "nbformat": 4,
 "nbformat_minor": 2
}
